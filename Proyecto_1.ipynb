{
 "metadata": {
  "name": "",
  "signature": "sha256:78880270ac2d333b682ef9e38efe1cec86fae5105b8f9aa3dd9cf1ef754874f5"
 },
 "nbformat": 3,
 "nbformat_minor": 0,
 "worksheets": [
  {
   "cells": [
    {
     "cell_type": "markdown",
     "metadata": {},
     "source": [
      "Una vez resuelta la ecuaci\u00f3n de Laplace en coordenadas esf\u00e9ricas, por el m\u00e9todo de separaci\u00f3n de variables:\n",
      "$$\\nabla ^2 V(r, \\theta, \\phi) = 0$$\n",
      "se obtienen los siguientes modos normales:\n",
      "$$ V_{lm}(r, \\theta, \\phi) = \\left( D_{lm} r^l + E_{lm} \\frac{1}{r ^{-(l+1)}} \\right) Y_l ^m(\\theta, \\phi) $$\n",
      "Escritos tambi\u00e9n de la forma:\n",
      "$$ V_{lm}(r, \\theta, \\phi) = \\left( D_{lm} r^l + E_{lm} \\frac{1}{r ^{-(l+1)}} \\right) e^{im\\phi} P_l ^m (cos \\theta). $$\n",
      "\n",
      "Una vez evaluada las condiciones de frontera, es posible corroborar qu\u00e9:\n",
      "$$ V(r, \\theta, \\phi) = \\sum_ {l= 0} ^ \\infty \\sum_{-l} ^{l} \\left( D_{lm} r^l \\right) e^{im\\phi} P_l ^m (cos \\theta), ~~ l + m = 2k + 1 $$\n",
      "Donde la soluci\u00f3n divergente en el origen ha sido removida para garantizar que el potencial sea finito en el punto (0,0,0) contenido dentro del plano z = 0. La condici\u00f3n en la frontera de $z = 0 \\rightarrow V(r, \\theta, \\phi) = 0$, restringe los posibles valores de $l$ y $m$ aquellos tales que $l + m = 2k + 1$.\n",
      "\n",
      "Imponiendo la siguiente condici\u00f3n a la frontera,\n",
      "$$ \\sum_ {l= 0} ^ \\infty \\sum_{-l} ^{l} \\left( D_{lm} a^l \\right)  Y_l ^m(\\theta, \\phi) = f(\\theta, \\phi) $$\n",
      "Donde:\n",
      "$$ f(\\theta, \\phi) = \\left\\{ \\begin{array}{cc}\n",
      "V_0 sin{\\frac{\\phi}{2}} ~ cos^2 \\theta ~ sin{\\frac{\\phi}{2}} & 0 \\leq \\theta \\leq \\frac{\\pi}{2} \\\\\n",
      "0 & \\frac{\\pi}{2} \\leq \\theta \\leq \\pi\n",
      "\\end{array}  \\right. $$\n",
      "Multiplicando por $\\hat{Y}_{l'} ^{m'}$:\n",
      "$$ \\sum_ {l= 0} ^ \\infty \\sum_{-l} ^{l} \\left( D_{lm} a^l \\right)  \\hat{Y}_{l'} ^{m'} Y_l ^m = f(\\theta, \\phi) ~\\hat{Y}_{l'} ^{m'}$$\n",
      "Integrando:\n",
      "$$ \\sum_ {l= 0} ^ \\infty \\sum_{-l} ^{l} \\left( D_{lm} a^l \\right) \\int_0 ^\\pi \\int_0 ^{2\\pi}  \\hat{Y}_{l'} ^{m'} Y_l ^m ~sin\\theta d\\theta d\\phi= V_0 \\int_0 ^{\\frac{\\pi}{2}} \\int_0 ^{2\\pi} sin{\\frac{\\phi}{2}} ~ cos^2 \\theta ~\\hat{Y}_{l'} ^{m'} ~ sin\\theta d\\theta d\\phi + \\int_\\frac{\\pi}{2} ^\\pi \\int_0 ^{2\\pi} 0 ~sin\\theta d\\theta d\\phi$$\n",
      "Como:\n",
      "$$ \\int_0 ^\\pi \\int_0 ^{2\\pi}\\hat{Y}_{l'} ^{m'} Y_l ^m ~sin\\theta d\\theta d\\phi = \\delta_{l, l'} \\delta_{m, m'} $$\n",
      "\n",
      "$$ D_{lm} a^l = V_0 \\int_0 ^{\\frac{\\pi}{2}} \\int_0 ^{2\\pi} sin{\\frac{\\phi}{2}} ~ cos^2 \\theta ~\\hat{Y}_{l'} ^{m'} ~ sin\\theta d\\theta d\\phi $$\n",
      "\n",
      "Y siendo $\\hat{Y}_l ^m (\\theta, \\phi) = N ~e^{-im\\phi} P_l ^m (cos \\theta)$, con $N = (-1)^m \\sqrt{\\frac{(2l + 1)(l-m)!}{4\\pi (l+m)!}} $;\n",
      "\n",
      "$$ D_{lm} a^l = V_0 N \\int_0 ^{\\frac{\\pi}{2}} \\int_0 ^{2\\pi} sin{\\frac{\\phi}{2}} ~ cos^2 \\theta ~e^{-im\\phi} P_l ^m (cos \\theta) ~ sin\\theta d\\theta d\\phi $$\n",
      "Separando las componentes en $\\theta$ y $\\phi$:\n",
      "$$ D_{lm} = \\frac{V_0 N}{a^l} \\left[ \\int_0 ^{\\frac{\\pi}{2}} cos^2 \\theta ~sin\\theta ~P_l ^m (cos \\theta) d\\theta \\right] \\left[\\int_0 ^{2\\pi}sin{\\frac{\\phi}{2}} ~ e^{-im\\phi}   d\\phi \\right]     $$\n",
      "\n",
      "Con el cambio de variable: $x = cos\\theta$, $- sin \\theta d\\theta = dx$.\n",
      "\\begin{equation}\n",
      " D_{lm} = \\frac{V_0 N}{a^l} \\left[ -\\int_1 ^0 x^2 ~P_l ^m (x) dx \\right] \\left[\\int_0 ^{2\\pi}sin{\\frac{\\phi}{2}} ~ e^{-im\\phi}   d\\phi \\right] \n",
      "\\end{equation}\n",
      "Concentr\u00e1ndonos en la segunda integral, recordando que $sin \\alpha = \\frac{e^{i \\alpha} - e ^{-i \\alpha}}{2i} $;\n",
      "$$\n",
      "\\int sin{\\frac{\\phi}{2}} ~ e^{-im\\phi}   d\\phi   = \\int \\left( \\frac{e^{i \\frac{\\phi}{2}} - e^{-i \\frac{\\phi}{2}}      }{2i} \\right) e ^{-i m \\phi} d\\phi $$\n",
      "\n",
      "$$ = \\frac{1}{2i} \\int \\left(    e^{i\\frac{\\phi}{2}} e ^{-im\\phi} - e^{-i \\frac{\\phi}{2}} e ^{-im\\phi} \\right)d\\phi \n",
      " $$\n",
      "\n",
      "$$ = \\frac{1}{2i} \\int \\left(  e ^{i \\phi \\left( \\frac{1}{2} - m  \\right) } - e ^{- i \\phi \\left( \\frac{1}{2} + m  \\right)} \\right)  d\\phi $$\n",
      "Separando la integral y efectuando los cambios de variable pertinentes:\n",
      "\n",
      "$$ = \\left. \\frac{1}{2} \\left\\{  \\frac{1}{ \\left( \\frac{1}{2} + m  \\right) } e ^{- i \\phi \\left( \\frac{1}{2} + m  \\right)}  - \\frac{1}{ \\left( \\frac{1}{2} - m  \\right) } e ^{i \\phi \\left( \\frac{1}{2} - m  \\right)}  \\right\\} \\right|_0 ^{2\\pi}$$\n",
      "\n",
      "$$ = \\frac{1}{2} \\left\\{  \\frac{1}{ \\left( \\frac{1}{2} + m  \\right) } e ^{- i \\pi \\left( 1 + 2m  \\right)}  - \\frac{1}{ \\left( \\frac{1}{2} - m  \\right) } e ^{i \\pi \\left( 1 - 2m  \\right)}  \\right\\}  - \\frac{1}{2} \\left\\{  \\frac{1}{ \\left( \\frac{1}{2} + m  \\right) }  - \\frac{1}{ \\left( \\frac{1}{2} - m  \\right) }   \\right\\}$$\n",
      "\n",
      "Usando la f\u00f3rmula de Euler:\n",
      "\n",
      "$$e ^{i  \\pi \\left( 1 +2 m  \\right) }  = cos ((2m +1) \\pi) + i ~sin ((2m+1) \\pi)$$\n",
      "\n",
      "Sabemos que $m$ es un entero, por lo tanto $(2m+1)\\pi$ es un m\u00faltiplo entero \\emph{impar} de $\\pi$ y $sin ((2m+1) \\pi) = 0, \\forall m$. Con el mismo argumento, $cos((2m+1)\\pi) = -1$. \n",
      "\n",
      "An\u00e1logamente:\n",
      "$$e ^{i  \\pi \\left( 1 -2 m  \\right) }  = cos ((1 - 2m) \\pi) - i ~sin ((1 - 2m) \\pi)$$\n",
      "$$ = cos((2m-1) \\pi) + i ~sin ((2m-1)\\pi)) $$\n",
      "Y por razones id\u00e9nticas a las expuestas con anterioridad: $sin((2m-1)\\pi) = 0$ y $cos((2m-1)\\pi) = -1$, $\\forall m$.\n",
      "\n",
      "Hecho esto:\n",
      "$$ = \\frac{1}{2} \\left\\{  \\frac{1}{ \\left( \\frac{1}{2} + m  \\right) } (-1)  - \\frac{1}{ \\left( \\frac{1}{2} - m  \\right) } (-1)  \\right\\}  - \\frac{1}{2} \\left\\{  \\frac{1}{ \\left( \\frac{1}{2} + m  \\right) }  - \\frac{1}{ \\left( \\frac{1}{2} - m  \\right) }   \\right\\}$$\n",
      "$$ =  - \\frac{1}{2} \\left\\{  \\frac{1}{ \\left( \\frac{1}{2} + m  \\right) }   - \\frac{1}{ \\left( \\frac{1}{2} - m  \\right) }  \\right\\}  - \\frac{1}{2} \\left\\{  \\frac{1}{ \\left( \\frac{1}{2} + m  \\right) }  - \\frac{1}{ \\left( \\frac{1}{2} - m  \\right) }   \\right\\}$$\n",
      "$$ = -  \\left\\{  \\frac{1}{ \\left( \\frac{1}{2} + m  \\right) }   - \\frac{1}{ \\left( \\frac{1}{2} - m  \\right) }  \\right\\} $$\n",
      "\n",
      "Y la expresi\u00f3n para los $D_{lm}$ se convierte en:\n",
      "$$  D_{lm} = \\left\\{ (-1)^m \\sqrt{\\frac{(2l + 1)(l-m)!}{4\\pi (l+m)!}} \\frac{V_0}{a^l} \\left[\\frac{1}{ \\left( \\frac{1}{2} - m  \\right) } -  \\frac{1}{ \\left( \\frac{1}{2} + m  \\right) }    \\right] \\right\\}  \\int_0 ^1 x^2 ~P_l ^m (x) dx    $$\n",
      "\n",
      "Definiendo $M_{lm}$:\n",
      "$$ M = (-1)^m \\sqrt{\\frac{(2l + 1)(l-m)!}{4\\pi (l+m)!}} \\frac{V_0}{a^l} \\left[\\frac{1}{ \\left( \\frac{1}{2} - m  \\right) } -  \\frac{1}{ \\left( \\frac{1}{2} + m  \\right) }    \\right] $$"
     ]
    },
    {
     "cell_type": "code",
     "collapsed": false,
     "input": [
      "import numpy as np\n",
      "from matplotlib import pyplot as plt\n",
      "from scipy.special import lpmn as legendre\n",
      "%matplotlib inline"
     ],
     "language": "python",
     "metadata": {},
     "outputs": [],
     "prompt_number": 7
    },
    {
     "cell_type": "markdown",
     "metadata": {},
     "source": [
      "Introducimos los valores iniciales del problema. Por simplicidad, eligiremos una esfera unitaria y un potencial el\u00e9ctrico de 5 volts."
     ]
    },
    {
     "cell_type": "code",
     "collapsed": false,
     "input": [
      "a = 1.   #Radio de la Esfera\n",
      "V0 = 5.  #Potencial el\u00e9ctrico V0"
     ],
     "language": "python",
     "metadata": {},
     "outputs": [],
     "prompt_number": 8
    },
    {
     "cell_type": "markdown",
     "metadata": {},
     "source": [
      "Definimos las constantes que salen de la integral de $D_{lm}$:"
     ]
    },
    {
     "cell_type": "code",
     "collapsed": false,
     "input": [
      "def Coef_Dlm (l, m):\n",
      "    ((-1.)**m)*np.sqrt(((2.*l + 1)*np.math.factorial(l-m))/(4*np.pi*np.math.factorial(l+m)))*(V0 / (a**l))*((1. / (0.5 - m)) - (1. / (0.5 + m)))\n",
      "    "
     ],
     "language": "python",
     "metadata": {},
     "outputs": [],
     "prompt_number": 9
    },
    {
     "cell_type": "code",
     "collapsed": false,
     "input": [],
     "language": "python",
     "metadata": {},
     "outputs": []
    }
   ],
   "metadata": {}
  }
 ]
}
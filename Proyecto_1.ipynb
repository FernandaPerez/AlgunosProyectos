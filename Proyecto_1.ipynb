{
 "metadata": {
  "name": "",
  "signature": "sha256:fd6ba7a5dd2b47b18945dc2c54d90e95b209ffcef9a3ff0dd93db90512b1d16a"
 },
 "nbformat": 3,
 "nbformat_minor": 0,
 "worksheets": [
  {
   "cells": [
    {
     "cell_type": "markdown",
     "metadata": {},
     "source": [
      "Una vez resuelta la ecuaci\u00f3n de Laplace en coordenadas esf\u00e9ricas, por el m\u00e9todo de separaci\u00f3n de variables:\n",
      "$$\\nabla ^2 V(r, \\theta, \\phi) = 0$$\n",
      "se obtienen los siguientes modos normales:\n",
      "$$ V_{lm}(r, \\theta, \\phi) = \\left( D_{lm} r^l + E_{lm} \\frac{1}{r ^{-(l+1)}} \\right) Y_l ^m(\\theta, \\phi) $$\n",
      "Escritos tambi\u00e9n de la forma:\n",
      "$$ V_{lm}(r, \\theta, \\phi) = \\left( D_{lm} r^l + E_{lm} \\frac{1}{r ^{-(l+1)}} \\right) e^{im\\phi} P_l ^m (cos \\theta). $$\n",
      "\n",
      "Una vez evaluada las condiciones de frontera, es posible corroborar qu\u00e9:\n",
      "$$ V(r, \\theta, \\phi) = \\sum_ {l= 0} ^ \\infty \\sum_{-l} ^{l} \\left( D_{lm} r^l \\right) e^{im\\phi} P_l ^m (cos \\theta), ~~ l + m = 2k + 1 $$\n",
      "Donde la soluci\u00f3n divergente en el origen ha sido removida para garantizar que el potencial sea finito en el punto (0,0,0) contenido dentro del plano z = 0. La condici\u00f3n en la frontera de $z = 0 \\rightarrow V(r, \\theta, \\phi) = 0$, restringe los posibles valores de $l$ y $m$ aquellos tales que $l + m = 2k + 1$.\n",
      "\n",
      "Imponiendo la siguiente condici\u00f3n a la frontera,\n",
      "$$ \\sum_ {l= 0} ^ \\infty \\sum_{-l} ^{l} \\left( D_{lm} a^l \\right)  Y_l ^m(\\theta, \\phi) = f(\\theta, \\phi) $$\n",
      "Donde:\n",
      "$$ f(\\theta, \\phi) = \\left\\{ \\begin{array}{cc}\n",
      "V_0 sin{\\frac{\\phi}{2}} ~ cos^2 \\theta ~ sin{\\frac{\\phi}{2}} & 0 \\leq \\theta \\leq \\frac{\\pi}{2} \\\\\n",
      "0 & \\frac{\\pi}{2} \\leq \\theta \\leq \\pi\n",
      "\\end{array}  \\right. $$\n",
      "Multiplicando por $\\hat{Y}_{l'} ^{m'}$:\n",
      "$$ \\sum_ {l= 0} ^ \\infty \\sum_{-l} ^{l} \\left( D_{lm} a^l \\right)  \\hat{Y}_{l'} ^{m'} Y_l ^m = f(\\theta, \\phi) ~\\hat{Y}_{l'} ^{m'}$$\n",
      "Integrando:\n",
      "$$ \\sum_ {l= 0} ^ \\infty \\sum_{-l} ^{l} \\left( D_{lm} a^l \\right) \\int_0 ^\\pi \\int_0 ^{2\\pi}  \\hat{Y}_{l'} ^{m'} Y_l ^m ~sin\\theta d\\theta d\\phi= V_0 \\int_0 ^{\\frac{\\pi}{2}} \\int_0 ^{2\\pi} sin{\\frac{\\phi}{2}} ~ cos^2 \\theta ~\\hat{Y}_{l'} ^{m'} ~ sin\\theta d\\theta d\\phi + \\int_\\frac{\\pi}{2} ^\\pi \\int_0 ^{2\\pi} 0 ~sin\\theta d\\theta d\\phi$$\n",
      "Como:\n",
      "$$ \\int_0 ^\\pi \\int_0 ^{2\\pi}\\hat{Y}_{l'} ^{m'} Y_l ^m ~sin\\theta d\\theta d\\phi = \\delta_{l, l'} \\delta_{m, m'} $$\n",
      "\n",
      "$$ D_{lm} a^l = V_0 \\int_0 ^{\\frac{\\pi}{2}} \\int_0 ^{2\\pi} sin{\\frac{\\phi}{2}} ~ cos^2 \\theta ~\\hat{Y}_{l'} ^{m'} ~ sin\\theta d\\theta d\\phi $$\n",
      "\n",
      "Y siendo $\\hat{Y}_l ^m (\\theta, \\phi) = N ~e^{-im\\phi} P_l ^m (cos \\theta)$, con $N = (-1)^m \\sqrt{\\frac{(2l + 1)(l-m)!}{4\\pi (l+m)!}} $;\n",
      "\n",
      "$$ D_{lm} a^l = V_0 N \\int_0 ^{\\frac{\\pi}{2}} \\int_0 ^{2\\pi} sin{\\frac{\\phi}{2}} ~ cos^2 \\theta ~e^{-im\\phi} P_l ^m (cos \\theta) ~ sin\\theta d\\theta d\\phi $$\n",
      "Separando las componentes en $\\theta$ y $\\phi$:\n",
      "$$ D_{lm} = \\frac{V_0 N}{a^l} \\left[ \\int_0 ^{\\frac{\\pi}{2}} cos^2 \\theta ~sin\\theta ~P_l ^m (cos \\theta) d\\theta \\right] \\left[\\int_0 ^{2\\pi}sin{\\frac{\\phi}{2}} ~ e^{-im\\phi}   d\\phi \\right]     $$\n",
      "\n",
      "Con el cambio de variable: $x = cos\\theta$, $- sin \\theta d\\theta = dx$.\n",
      "\\begin{equation}\n",
      " D_{lm} = \\frac{V_0 N}{a^l} \\left[ -\\int_1 ^0 x^2 ~P_l ^m (x) dx \\right] \\left[\\int_0 ^{2\\pi}sin{\\frac{\\phi}{2}} ~ e^{-im\\phi}   d\\phi \\right] \n",
      "\\end{equation}\n",
      "Concentr\u00e1ndonos en la segunda integral, recordando que $sin \\alpha = \\frac{e^{i \\alpha} - e ^{-i \\alpha}}{2i} $;\n",
      "$$\n",
      "\\int sin{\\frac{\\phi}{2}} ~ e^{-im\\phi}   d\\phi   = \\int \\left( \\frac{e^{i \\frac{\\phi}{2}} - e^{-i \\frac{\\phi}{2}}      }{2i} \\right) e ^{-i m \\phi} d\\phi $$\n",
      "\n",
      "$$ = \\frac{1}{2i} \\int \\left(    e^{i\\frac{\\phi}{2}} e ^{-im\\phi} - e^{-i \\frac{\\phi}{2}} e ^{-im\\phi} \\right)d\\phi \n",
      " $$\n",
      "\n",
      "$$ = \\frac{1}{2i} \\int \\left(  e ^{i \\phi \\left( \\frac{1}{2} - m  \\right) } - e ^{- i \\phi \\left( \\frac{1}{2} + m  \\right)} \\right)  d\\phi $$\n",
      "Separando la integral y efectuando los cambios de variable pertinentes:\n",
      "\n",
      "$$ = \\left. \\frac{1}{2} \\left\\{  \\frac{1}{ \\left( \\frac{1}{2} + m  \\right) } e ^{- i \\phi \\left( \\frac{1}{2} + m  \\right)}  - \\frac{1}{ \\left( \\frac{1}{2} - m  \\right) } e ^{i \\phi \\left( \\frac{1}{2} - m  \\right)}  \\right\\} \\right|_0 ^{2\\pi}$$\n",
      "\n",
      "$$ = \\frac{1}{2} \\left\\{  \\frac{1}{ \\left( \\frac{1}{2} + m  \\right) } e ^{- i \\pi \\left( 1 + 2m  \\right)}  - \\frac{1}{ \\left( \\frac{1}{2} - m  \\right) } e ^{i \\pi \\left( 1 - 2m  \\right)}  \\right\\}  - \\frac{1}{2} \\left\\{  \\frac{1}{ \\left( \\frac{1}{2} + m  \\right) }  - \\frac{1}{ \\left( \\frac{1}{2} - m  \\right) }   \\right\\}$$\n",
      "\n",
      "Usando la f\u00f3rmula de Euler:\n",
      "\n",
      "$$e ^{i  \\pi \\left( 1 +2 m  \\right) }  = cos ((2m +1) \\pi) + i ~sin ((2m+1) \\pi)$$\n",
      "\n",
      "Sabemos que $m$ es un entero, por lo tanto $(2m+1)\\pi$ es un m\u00faltiplo entero \\emph{impar} de $\\pi$ y $sin ((2m+1) \\pi) = 0, \\forall m$. Con el mismo argumento, $cos((2m+1)\\pi) = -1$. \n",
      "\n",
      "An\u00e1logamente:\n",
      "$$e ^{i  \\pi \\left( 1 -2 m  \\right) }  = cos ((1 - 2m) \\pi) - i ~sin ((1 - 2m) \\pi)$$\n",
      "$$ = cos((2m-1) \\pi) + i ~sin ((2m-1)\\pi)) $$\n",
      "Y por razones id\u00e9nticas a las expuestas con anterioridad: $sin((2m-1)\\pi) = 0$ y $cos((2m-1)\\pi) = -1$, $\\forall m$.\n",
      "\n",
      "Hecho esto:\n",
      "$$ = \\frac{1}{2} \\left\\{  \\frac{1}{ \\left( \\frac{1}{2} + m  \\right) } (-1)  - \\frac{1}{ \\left( \\frac{1}{2} - m  \\right) } (-1)  \\right\\}  - \\frac{1}{2} \\left\\{  \\frac{1}{ \\left( \\frac{1}{2} + m  \\right) }  - \\frac{1}{ \\left( \\frac{1}{2} - m  \\right) }   \\right\\}$$\n",
      "$$ =  - \\frac{1}{2} \\left\\{  \\frac{1}{ \\left( \\frac{1}{2} + m  \\right) }   - \\frac{1}{ \\left( \\frac{1}{2} - m  \\right) }  \\right\\}  - \\frac{1}{2} \\left\\{  \\frac{1}{ \\left( \\frac{1}{2} + m  \\right) }  - \\frac{1}{ \\left( \\frac{1}{2} - m  \\right) }   \\right\\}$$\n",
      "$$ = -  \\left\\{  \\frac{1}{ \\left( \\frac{1}{2} + m  \\right) }   - \\frac{1}{ \\left( \\frac{1}{2} - m  \\right) }  \\right\\} $$\n",
      "\n",
      "Y la expresi\u00f3n para los $D_{lm}$ se convierte en:\n",
      "$$  D_{lm} = \\left\\{ (-1)^m \\sqrt{\\frac{(2l + 1)(l-m)!}{4\\pi (l+m)!}} \\frac{V_0}{a^l} \\left[\\frac{1}{ \\left( \\frac{1}{2} - m  \\right) } -  \\frac{1}{ \\left( \\frac{1}{2} + m  \\right) }    \\right] \\right\\}  \\int_0 ^1 x^2 ~P_l ^m (x) dx    $$\n",
      "\n",
      "Definiendo $M_{lm}$:\n",
      "$$ M_{lm} = (-1)^m \\sqrt{\\frac{(2l + 1)(l-m)!}{4\\pi (l+m)!}} \\frac{V_0}{a^l} \\left[\\frac{1}{ \\left( \\frac{1}{2} - m  \\right) } -  \\frac{1}{ \\left( \\frac{1}{2} + m  \\right) }    \\right] $$\n",
      "\n",
      "Es necesario notar que, para valores de $m = 0 $, los coeficientes $M_{lm} = 0$."
     ]
    },
    {
     "cell_type": "code",
     "collapsed": false,
     "input": [
      "import numpy as np\n",
      "from matplotlib import pyplot as plt\n",
      "from matplotlib import cm, colors\n",
      "import scipy as spy\n",
      "import scipy.integrate as integrate\n",
      "from types import *\n",
      "from mpl_toolkits.mplot3d import axes3d, Axes3D \n",
      "import matplotlib.cm as cm\n",
      "\n",
      "%matplotlib inline"
     ],
     "language": "python",
     "metadata": {},
     "outputs": [],
     "prompt_number": 1
    },
    {
     "cell_type": "markdown",
     "metadata": {},
     "source": [
      "Introducimos los valores iniciales del problema. Por simplicidad, eligiremos una esfera unitaria y un potencial el\u00e9ctrico de 5 volts."
     ]
    },
    {
     "cell_type": "code",
     "collapsed": false,
     "input": [
      "a = 1.   #Radio de la Esfera\n",
      "V0 = 5.  #Potencial el\u00e9ctrico V0"
     ],
     "language": "python",
     "metadata": {},
     "outputs": [],
     "prompt_number": 2
    },
    {
     "cell_type": "markdown",
     "metadata": {},
     "source": [
      "Definimos una clase que permitir\u00e1 efectuar operaciones con el grado y el orden de los polinomios con mayor eficiacia."
     ]
    },
    {
     "cell_type": "code",
     "collapsed": false,
     "input": [
      "class Grado_Pol:\n",
      "    \n",
      "    def __init__ (self, l):\n",
      "        if float(l).is_integer():                     # Comprueba que el grado sea un entero\n",
      "            self.Grado = l\n",
      "        else:\n",
      "            print(\"El grado es invalido\")\n",
      "    \n",
      "    def Orden (self):\n",
      "        lista = []\n",
      "        Emes = np.arange(-self.Grado, self.Grado +1)\n",
      "        for m in Emes:\n",
      "            if (self.Grado + m)%2 != 0:               # Elige unicamente los valores de m que satisfacen l+m = impar\n",
      "                lista.append(m)\n",
      "                \n",
      "        return lista                                 # Devuelve una lista de valores posibles\n",
      "    \n",
      "    def No_Orden (self):\n",
      "        return len(self.Orden())                      # Indica la cardinalidad de la lista anterior\n",
      "        \n",
      "        \n",
      "        \n",
      "        "
     ],
     "language": "python",
     "metadata": {},
     "outputs": [],
     "prompt_number": 3
    },
    {
     "cell_type": "markdown",
     "metadata": {},
     "source": [
      "A continuaci\u00f3n, las funciones especiales que ser\u00e1n necesarias: Los polinomios asociados de legendre y los armonicos esferico, de los que \u00fanicamente ser\u00e1 posible retomar la parte real."
     ]
    },
    {
     "cell_type": "code",
     "collapsed": false,
     "input": [
      "def Legendre (x, grado, orden):\n",
      "        return spy.special.lpmv(orden, grado, x)\n",
      "def Ylm (r, th, phi, grado, orden):\n",
      "    return spy.special.sph_harm(orden, grado, phi, th)"
     ],
     "language": "python",
     "metadata": {},
     "outputs": [],
     "prompt_number": 4
    },
    {
     "cell_type": "markdown",
     "metadata": {},
     "source": [
      "Definimos los coeficientes $D_{lm}$.\n",
      "La integral $\\int_0 ^1 x^2 ~P_l ^m (x) dx $ ser\u00e1 realizada con la libreria scypy.integrate.quad"
     ]
    },
    {
     "cell_type": "code",
     "collapsed": false,
     "input": [
      "def Clm (l, m):                                  # El coeficiente Clm es un auxiliar, permite conocer informacion util\n",
      "    \n",
      "    def Mlm (l, m):\n",
      "        return ((-1.)**m)*np.sqrt(((2.*l + 1)*np.math.factorial(l-m))/(4*np.pi*np.math.factorial(l+m)))*(V0 / (a**l))*((1. / (0.5 - m)) - (1. / (0.5 + m)))\n",
      "    integral = integrate.quad(Legendre, 1., 0., args=(l,m))\n",
      "    \n",
      "    return Mlm(l,m)*integral[0], integral[1], Mlm(l,m)\n",
      "    # Clm[0] = el coeficiente buscado\n",
      "    # Clm[1] = error del metodo quad de scipy\n",
      "    # Clm[2] = Valor de Mlm, para ver si efectivamente es cero.\n",
      "\n",
      "def Dlm (l,m):\n",
      "    return Clm(l,m)[0]\n",
      "    "
     ],
     "language": "python",
     "metadata": {},
     "outputs": [],
     "prompt_number": 5
    },
    {
     "cell_type": "markdown",
     "metadata": {},
     "source": [
      "Para la funcion potencial, es necesario realizar la \"suma infinita\" sobre los grados $l$ del polinomio. Por simplicidad, la variable de grado a sido renombrada como *Rango*, y puede manipularse para tomar una *mejor aproximacion*. Como primera propuesta, para ahorrar recursos de computo, ha sido designada con un valor predeterminado de 4."
     ]
    },
    {
     "cell_type": "code",
     "collapsed": false,
     "input": [
      "def V(r, th, phi, Rango=4):\n",
      "    V = 0.                           #Fuera del ciclo. Queremos sumar las todas las m's, sobre todas las i's.\n",
      "    progreso = 0.\n",
      "    for i in range (1,Rango+1):\n",
      "        l = Grado_Pol(i)\n",
      "        if not l.Orden():\n",
      "            print(\"El grado \", l.Grado, \" no es valido\")\n",
      "        else:\n",
      "            #print(\"Para el grado \", i, \" hay \", l.No_Orden(), \" ordenes validos.\")\n",
      "            for m in l.Orden():\n",
      "                D = Dlm(i,m)\n",
      "                if D < 1e-6 :\n",
      "                    D = 0\n",
      "                V = V + D*Ylm(r, th,phi, i, m)\n",
      "                #print (D, \"  l = \", i, \" m = \", m, \"  Error = \", Clm(i,m)[1], \"Mlm = \", Clm(i,m)[2] )\n",
      "            print(\"  \\n\")\n",
      "            progreso =  (i+1)*(100./Rango)\n",
      "            print (\"... %d \"% progreso,  \"%\")\n",
      "    \n",
      "    print (\"Puntos graficados: \",Th[0].size)\n",
      "    print(\"Grado maximo del polinimio: \", Rango)                            \n",
      "    return V\n",
      "\n",
      "    "
     ],
     "language": "python",
     "metadata": {},
     "outputs": [],
     "prompt_number": 6
    },
    {
     "cell_type": "markdown",
     "metadata": {},
     "source": [
      "La funcion a graficar es, entonces, una funcion de 4 variables: tres coordenadas espaciales (en coordenadas esfericas), y una cuarta coordenada que representa el valor del potencial $V(r, \\theta, \\phi)$. Para visualizar una imagen, la variable $r$ ser\u00e1 fijada como par\u00e1metro. La informacion del potencial sera incluida como un mapa de colores por medio de las librerias matplotlib.cm y matplotlib.colors, e incorporada a una plot_surface de la funci\u00f3n $f(r, \\theta, \\phi)$ como una m\u00e1scara de color, para cada punto.\n",
      "\n",
      "Considerando \u00fanicamente la componente real de V y mapeando los puntos para Th y Ph obtenidos (un arreglo de N por N. De incluir la variable r ser\u00eda de N x N x N):"
     ]
    },
    {
     "cell_type": "code",
     "collapsed": false,
     "input": [
      "\"\"\"\n",
      "color_map= np.real(V(a,Th,Ph,5))\n",
      "norm = colors.Normalize()\n",
      "color = norm(color_map)\n",
      "\n",
      "colorbar = cm.ScalarMappable(cmap = cm.jet)\n",
      "colorbar.set_array(color_map)\n",
      "\"\"\""
     ],
     "language": "python",
     "metadata": {},
     "outputs": [
      {
       "metadata": {},
       "output_type": "pyout",
       "prompt_number": 7,
       "text": [
        "'\\ncolor_map= np.real(V(a,Th,Ph,5))\\nnorm = colors.Normalize()\\ncolor = norm(color_map)\\n\\ncolorbar = cm.ScalarMappable(cmap = cm.jet)\\ncolorbar.set_array(color_map)\\n'"
       ]
      }
     ],
     "prompt_number": 7
    },
    {
     "cell_type": "markdown",
     "metadata": {},
     "source": [
      "Se hace necesario crear una malla de puntos para:\n",
      "$$ 0 \\leq \\theta \\leq \\pi/2 ~; ~ 0 \\leq \\phi \\leq \\pi$$"
     ]
    },
    {
     "cell_type": "code",
     "collapsed": false,
     "input": [
      "#Estos espacios son necesarios para la creacion de una malla de C x C puntos\n",
      "C = 100"
     ],
     "language": "python",
     "metadata": {},
     "outputs": [],
     "prompt_number": 8
    },
    {
     "cell_type": "code",
     "collapsed": false,
     "input": [
      "tt = np.linspace(0, (np.pi)/2. , C)\n",
      "pp = np.linspace(0, 2*(np.pi), C)\n",
      "        \n",
      "Th,Ph = np.meshgrid( tt, pp)"
     ],
     "language": "python",
     "metadata": {},
     "outputs": [],
     "prompt_number": 9
    },
    {
     "cell_type": "markdown",
     "metadata": {},
     "source": [
      "Incluyendo el mapa de colores:"
     ]
    },
    {
     "cell_type": "code",
     "collapsed": false,
     "input": [
      "\"\"\"\n",
      "** Esto tambien, necesito que corra para diferentes colores del radio\n",
      "\n",
      "color_map= np.real(V(R,Th,Ph,5))\n",
      "norm = colors.Normalize()\n",
      "color = norm(color_map)\n",
      "\n",
      "colorbar = cm.ScalarMappable(cmap = cm.jet)\n",
      "colorbar.set_array(color_map)\n",
      "\"\"\""
     ],
     "language": "python",
     "metadata": {},
     "outputs": [
      {
       "metadata": {},
       "output_type": "pyout",
       "prompt_number": 10,
       "text": [
        "'\\n** Esto tambien, necesito que corra para diferentes colores del radio\\n\\ncolor_map= np.real(V(R,Th,Ph,5))\\nnorm = colors.Normalize()\\ncolor = norm(color_map)\\n\\ncolorbar = cm.ScalarMappable(cmap = cm.jet)\\ncolorbar.set_array(color_map)\\n'"
       ]
      }
     ],
     "prompt_number": 10
    },
    {
     "cell_type": "code",
     "collapsed": false,
     "input": [
      "def graficas (N, th=Th, phi=Ph, Rango=4):\n",
      "    \n",
      "    fig = plt.figure(figsize=(20,20))\n",
      "    for i in range(1,N+1):\n",
      "        \n",
      "        print (\"GRAFICA %d de %d\" % (i, N))\n",
      "        print(\"  \")\n",
      "        R = i*(a/N)\n",
      "        \n",
      "        print(\"  \")\n",
      "\n",
      "        X = R*np.sin(Th)*np.cos(Ph)\n",
      "        Y = R*np.sin(Th)*np.sin(Ph)\n",
      "        Z = R*np.cos(Th)\n",
      "        print(\"Malla creada para r = %3.3f\"%R)\n",
      "        \n",
      "        color_map= np.real(V(R,Th,Ph,Rango))\n",
      "        norm = colors.Normalize()\n",
      "        color = norm(color_map)\n",
      "\n",
      "        colorbar = cm.ScalarMappable(cmap = cm.jet)\n",
      "        colorbar.set_array(color_map)\n",
      "        \n",
      "\n",
      "        if N != 2:\n",
      "            ax = fig.add_subplot(np.ceil(N/2),np.ceil(N/2), i, projection=\"3d\")\n",
      "        else:\n",
      "            ax = fig.add_subplot(N,1, i, projection=\"3d\")\n",
      "        ax.set_xlim(-1,1)\n",
      "        ax.set_ylim(-1,1)\n",
      "        ax.set_zlim(-1,1)\n",
      "        ax.set_title(r\"Grafica de $ V(r, \\theta, \\phi)$ para $r = %2.2f $\" % R)\n",
      "        ax.plot_surface(X, Y, Z,  rstride=1, cstride=1, facecolors=cm.jet(color))\n",
      "        plt.colorbar(colorbar)\n",
      "        \n",
      "        print (\"**************************************\")"
     ],
     "language": "python",
     "metadata": {},
     "outputs": []
    },
    {
     "cell_type": "code",
     "collapsed": false,
     "input": [
      "graficas(6, Rango=10)"
     ],
     "language": "python",
     "metadata": {},
     "outputs": [
      {
       "output_type": "stream",
       "stream": "stdout",
       "text": [
        "GRAFICA 1 de 6\n",
        "  \n",
        "  \n",
        "Malla creada para r = 0.167\n",
        "  \n"
       ]
      },
      {
       "output_type": "stream",
       "stream": "stdout",
       "text": [
        "\n",
        "... 20  %\n",
        "  \n"
       ]
      },
      {
       "output_type": "stream",
       "stream": "stdout",
       "text": [
        "\n",
        "... 30  %\n",
        "  \n"
       ]
      },
      {
       "output_type": "stream",
       "stream": "stdout",
       "text": [
        "\n",
        "... 40  %\n",
        "  \n"
       ]
      },
      {
       "output_type": "stream",
       "stream": "stdout",
       "text": [
        "\n",
        "... 50  %\n",
        "  \n"
       ]
      },
      {
       "output_type": "stream",
       "stream": "stdout",
       "text": [
        "\n",
        "... 60  %\n",
        "  \n"
       ]
      },
      {
       "output_type": "stream",
       "stream": "stdout",
       "text": [
        "\n",
        "... 70  %\n",
        "  \n"
       ]
      },
      {
       "output_type": "stream",
       "stream": "stdout",
       "text": [
        "\n",
        "... 80  %\n",
        "  \n"
       ]
      },
      {
       "output_type": "stream",
       "stream": "stdout",
       "text": [
        "\n",
        "... 90  %\n",
        "  \n"
       ]
      },
      {
       "output_type": "stream",
       "stream": "stdout",
       "text": [
        "\n",
        "... 100  %\n",
        "  \n"
       ]
      },
      {
       "output_type": "stream",
       "stream": "stdout",
       "text": [
        "\n",
        "... 110  %\n",
        "Puntos graficados:  100\n",
        "Grado maximo del polinimio:  10\n",
        "**************************************"
       ]
      },
      {
       "output_type": "stream",
       "stream": "stdout",
       "text": [
        "\n",
        "GRAFICA 2 de 6\n",
        "  \n",
        "  \n",
        "Malla creada para r = 0.333\n",
        "  \n"
       ]
      },
      {
       "output_type": "stream",
       "stream": "stdout",
       "text": [
        "\n",
        "... 20  %\n",
        "  \n"
       ]
      },
      {
       "output_type": "stream",
       "stream": "stdout",
       "text": [
        "\n",
        "... 30  %\n",
        "  \n"
       ]
      },
      {
       "output_type": "stream",
       "stream": "stdout",
       "text": [
        "\n",
        "... 40  %\n",
        "  \n"
       ]
      },
      {
       "output_type": "stream",
       "stream": "stdout",
       "text": [
        "\n",
        "... 50  %\n",
        "  \n"
       ]
      },
      {
       "output_type": "stream",
       "stream": "stdout",
       "text": [
        "\n",
        "... 60  %\n",
        "  \n"
       ]
      },
      {
       "output_type": "stream",
       "stream": "stdout",
       "text": [
        "\n",
        "... 70  %\n",
        "  \n"
       ]
      },
      {
       "output_type": "stream",
       "stream": "stdout",
       "text": [
        "\n",
        "... 80  %\n",
        "  \n"
       ]
      },
      {
       "output_type": "stream",
       "stream": "stdout",
       "text": [
        "\n",
        "... 90  %\n",
        "  \n"
       ]
      },
      {
       "output_type": "stream",
       "stream": "stdout",
       "text": [
        "\n",
        "... 100  %\n",
        "  \n"
       ]
      },
      {
       "output_type": "stream",
       "stream": "stdout",
       "text": [
        "\n",
        "... 110  %\n",
        "Puntos graficados:  100\n",
        "Grado maximo del polinimio:  10\n",
        "**************************************"
       ]
      },
      {
       "output_type": "stream",
       "stream": "stdout",
       "text": [
        "\n",
        "GRAFICA 3 de 6\n",
        "  \n",
        "  \n",
        "Malla creada para r = 0.500\n",
        "  \n"
       ]
      },
      {
       "output_type": "stream",
       "stream": "stdout",
       "text": [
        "\n",
        "... 20  %\n",
        "  \n"
       ]
      },
      {
       "output_type": "stream",
       "stream": "stdout",
       "text": [
        "\n",
        "... 30  %\n",
        "  \n"
       ]
      },
      {
       "output_type": "stream",
       "stream": "stdout",
       "text": [
        "\n",
        "... 40  %\n",
        "  \n"
       ]
      },
      {
       "output_type": "stream",
       "stream": "stdout",
       "text": [
        "\n",
        "... 50  %\n",
        "  \n"
       ]
      },
      {
       "output_type": "stream",
       "stream": "stdout",
       "text": [
        "\n",
        "... 60  %\n",
        "  \n"
       ]
      },
      {
       "output_type": "stream",
       "stream": "stdout",
       "text": [
        "\n",
        "... 70  %\n",
        "  \n"
       ]
      },
      {
       "output_type": "stream",
       "stream": "stdout",
       "text": [
        "\n",
        "... 80  %\n",
        "  \n"
       ]
      },
      {
       "output_type": "stream",
       "stream": "stdout",
       "text": [
        "\n",
        "... 90  %\n",
        "  \n"
       ]
      },
      {
       "output_type": "stream",
       "stream": "stdout",
       "text": [
        "\n",
        "... 100  %\n",
        "  \n"
       ]
      },
      {
       "output_type": "stream",
       "stream": "stdout",
       "text": [
        "\n",
        "... 110  %\n",
        "Puntos graficados:  100\n",
        "Grado maximo del polinimio:  10\n",
        "**************************************"
       ]
      },
      {
       "output_type": "stream",
       "stream": "stdout",
       "text": [
        "\n",
        "GRAFICA 4 de 6\n",
        "  \n",
        "  \n",
        "Malla creada para r = 0.667\n",
        "  \n"
       ]
      },
      {
       "output_type": "stream",
       "stream": "stdout",
       "text": [
        "\n",
        "... 20  %\n",
        "  \n"
       ]
      },
      {
       "output_type": "stream",
       "stream": "stdout",
       "text": [
        "\n",
        "... 30  %\n",
        "  \n"
       ]
      },
      {
       "output_type": "stream",
       "stream": "stdout",
       "text": [
        "\n",
        "... 40  %\n",
        "  \n"
       ]
      },
      {
       "output_type": "stream",
       "stream": "stdout",
       "text": [
        "\n",
        "... 50  %\n",
        "  \n"
       ]
      },
      {
       "output_type": "stream",
       "stream": "stdout",
       "text": [
        "\n",
        "... 60  %\n",
        "  \n"
       ]
      },
      {
       "output_type": "stream",
       "stream": "stdout",
       "text": [
        "\n",
        "... 70  %\n",
        "  \n"
       ]
      },
      {
       "output_type": "stream",
       "stream": "stdout",
       "text": [
        "\n",
        "... 80  %\n",
        "  \n"
       ]
      },
      {
       "output_type": "stream",
       "stream": "stdout",
       "text": [
        "\n",
        "... 90  %\n",
        "  \n"
       ]
      },
      {
       "output_type": "stream",
       "stream": "stdout",
       "text": [
        "\n",
        "... 100  %\n",
        "  \n"
       ]
      },
      {
       "output_type": "stream",
       "stream": "stdout",
       "text": [
        "\n",
        "... 110  %\n",
        "Puntos graficados:  100\n",
        "Grado maximo del polinimio:  10\n",
        "**************************************"
       ]
      },
      {
       "output_type": "stream",
       "stream": "stdout",
       "text": [
        "\n",
        "GRAFICA 5 de 6\n",
        "  \n",
        "  \n",
        "Malla creada para r = 0.833\n",
        "  \n"
       ]
      },
      {
       "output_type": "stream",
       "stream": "stdout",
       "text": [
        "\n",
        "... 20  %\n",
        "  \n"
       ]
      },
      {
       "output_type": "stream",
       "stream": "stdout",
       "text": [
        "\n",
        "... 30  %\n",
        "  \n"
       ]
      },
      {
       "output_type": "stream",
       "stream": "stdout",
       "text": [
        "\n",
        "... 40  %\n",
        "  \n"
       ]
      },
      {
       "output_type": "stream",
       "stream": "stdout",
       "text": [
        "\n",
        "... 50  %\n",
        "  \n"
       ]
      },
      {
       "output_type": "stream",
       "stream": "stdout",
       "text": [
        "\n",
        "... 60  %\n",
        "  \n"
       ]
      },
      {
       "output_type": "stream",
       "stream": "stdout",
       "text": [
        "\n",
        "... 70  %\n",
        "  \n"
       ]
      },
      {
       "output_type": "stream",
       "stream": "stdout",
       "text": [
        "\n",
        "... 80  %\n",
        "  \n"
       ]
      },
      {
       "output_type": "stream",
       "stream": "stdout",
       "text": [
        "\n",
        "... 90  %\n",
        "  \n"
       ]
      },
      {
       "output_type": "stream",
       "stream": "stdout",
       "text": [
        "\n",
        "... 100  %\n",
        "  \n"
       ]
      },
      {
       "output_type": "stream",
       "stream": "stdout",
       "text": [
        "\n",
        "... 110  %\n",
        "Puntos graficados:  100\n",
        "Grado maximo del polinimio:  10\n",
        "**************************************"
       ]
      },
      {
       "output_type": "stream",
       "stream": "stdout",
       "text": [
        "\n",
        "GRAFICA 6 de 6\n",
        "  \n",
        "  \n",
        "Malla creada para r = 1.000\n",
        "  \n"
       ]
      },
      {
       "output_type": "stream",
       "stream": "stdout",
       "text": [
        "\n",
        "... 20  %\n",
        "  \n"
       ]
      },
      {
       "output_type": "stream",
       "stream": "stdout",
       "text": [
        "\n",
        "... 30  %\n",
        "  \n"
       ]
      },
      {
       "output_type": "stream",
       "stream": "stdout",
       "text": [
        "\n",
        "... 40  %\n",
        "  \n"
       ]
      },
      {
       "output_type": "stream",
       "stream": "stdout",
       "text": [
        "\n",
        "... 50  %\n",
        "  \n"
       ]
      },
      {
       "output_type": "stream",
       "stream": "stdout",
       "text": [
        "\n",
        "... 60  %\n",
        "  \n"
       ]
      },
      {
       "output_type": "stream",
       "stream": "stdout",
       "text": [
        "\n",
        "... 70  %\n",
        "  \n"
       ]
      },
      {
       "output_type": "stream",
       "stream": "stdout",
       "text": [
        "\n",
        "... 80  %\n",
        "  \n"
       ]
      },
      {
       "output_type": "stream",
       "stream": "stdout",
       "text": [
        "\n",
        "... 90  %\n",
        "  \n"
       ]
      },
      {
       "output_type": "stream",
       "stream": "stdout",
       "text": [
        "\n",
        "... 100  %\n",
        "  \n"
       ]
      },
      {
       "output_type": "stream",
       "stream": "stdout",
       "text": [
        "\n",
        "... 110  %\n",
        "Puntos graficados:  100\n",
        "Grado maximo del polinimio:  10\n",
        "**************************************"
       ]
      }
     ]
    },
    {
     "cell_type": "raw",
     "metadata": {},
     "source": []
    }
   ],
   "metadata": {}
  }
 ]
}